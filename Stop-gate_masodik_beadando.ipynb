{
 "cells": [
  {
   "cell_type": "code",
   "execution_count": 97,
   "metadata": {},
   "outputs": [],
   "source": [
    "from search import *\n",
    "from games import *\n",
    "import games\n",
    "\n",
    "import copy"
   ]
  },
  {
   "cell_type": "markdown",
   "metadata": {},
   "source": [
    "Felteszem hogy a két játékos nevei: **A** és **B**\n",
    "\n",
    "\n",
    "Felteszem továbbá:\n",
    "- A tábla egyik oldalának a hossza: *len* (ha 8x8 a tábla akkor len az 8), az indexelés azonban 0-7 ig megy, X és Y esetében is a nulladik index a tábla bal felső sarka\n",
    "- *X* a vízszintes irányban a blokkok (tábla részei)\n",
    "- *Y* a függőleges irányban a blokkok (tábla részei)\n",
    "\n",
    "**A** vízszintesen rakhat\n",
    "**B** függőlegesen rakhat\n",
    "\n",
    "\n",
    "Egy lépés valid:\n",
    "- **A** esetén a lerakható dominó kettő blokkja balról jobbra legyenek *1* és *2*:\n",
    "    - Bármelyik sorban a *2*-es nem állhat $X_{len-len}$ indexen\n",
    "    - Bármelyik sorban az *1*-es nem állhat $X_{len-1}$ indexen\n",
    "    - Bármelyik sorban csak akkor rakható le máshova a dominó ha se *1*, se *2* nem ütközik **B** dominóival\n",
    "    - Bármelyik sorban csak akkor rakható le dominó ha egymás mellett van kettő unobstructed hely\n",
    "\n",
    "\n",
    "- **B** esetén a lerakható dominó kettő blokkja felülről lefelé legyenek *1* és *2*:\n",
    "    - Bármelyik oszlopban a *2*-es nem állhat $Y_{len-len}$ indexen\n",
    "    - Bármelyik oszlopban az *1*-es nem állhat $Y_{len-1}$ indexen\n",
    "    - Bármelyik oszlopban csak akkor rakható le máshova a dominó ha se *1*, se *2* nem ütközik **A** dominóival\n",
    "    - Bármelyik oszlopban csak akkor rakható le dominó ha egymás felett van kettő unobstructed hely\n",
    "\n",
    "Itt amire szükség van:\n",
    "- A tábla mérete változtatható legyen\n",
    "- Tudni kell ki jön\n",
    "- Tudni kell hogy a lépés valid-e\n",
    "- Szükséges valahogyan reprezentálnom a táblát\n",
    "- Szükséges egy cost function\n",
    "  - Azaz ha **A**-nak ajánlok akkor azt a lépést válasszam ami a legrosszabb **B**-nek és vice versa"
   ]
  },
  {
   "cell_type": "code",
   "execution_count": 98,
   "metadata": {},
   "outputs": [],
   "source": [
    "# nem térít vissza dictet csak módosítja az átadottat\n",
    "def invalid_steps_remover_returns_new_dict(state, dict__): \n",
    "    \n",
    "    for i in range(table_size):\n",
    "        for j in range(table_size):\n",
    "            if j < table_size-1 and ( state[i][j] != 0 or state[i][j+1] != 0 ) and (i, j) in dict__[\"A\"]:\n",
    "                dict__[\"A\"].remove((i, j))\n",
    "        \n",
    "        \n",
    "    for i in range(table_size):\n",
    "        for j in range(table_size):\n",
    "            if i < table_size-1 and ( state[i][j] != 0 or state[i+1][j] != 0 ) and (i, j) in dict__[\"B\"]:\n",
    "                dict__[\"B\"].remove((i, j))\n",
    "    "
   ]
  },
  {
   "cell_type": "code",
   "execution_count": 99,
   "metadata": {},
   "outputs": [],
   "source": [
    "table_size = 5\n",
    "dict_ = {}\n",
    "dict_[\"A\"] = []\n",
    "dict_[\"B\"] = []"
   ]
  },
  {
   "cell_type": "code",
   "execution_count": 100,
   "metadata": {},
   "outputs": [],
   "source": [
    "# generál egy adott méretű táblát\n",
    "def starter_kit(size):\n",
    "    \n",
    "    table = []\n",
    "    z = []\n",
    "    \n",
    "    for i in range(size):\n",
    "        z.append(0)\n",
    "    for i in range(size):\n",
    "        table.append(z.copy())\n",
    "    return (table)"
   ]
  },
  {
   "cell_type": "code",
   "execution_count": 101,
   "metadata": {},
   "outputs": [],
   "source": [
    "def initial_run(state):\n",
    "    \"\"\" \n",
    "        feltölti a dict_-emet a lehetséges pozíciókkal az átadott tábla alapján\n",
    "    \"\"\"\n",
    "    for i in range(table_size):\n",
    "        for j in range(table_size):\n",
    "            if j < table_size-1 and state[i][j] == 0 and state[i][j+1] == 0:\n",
    "                #print( \"i és j:\" , i, \"  \" ,j)\n",
    "                dict_[\"A\"].append((i, j))\n",
    "    \n",
    "                    \n",
    "    \"\"\"print()\n",
    "    print()\"\"\"\n",
    "        \n",
    "        \n",
    "    for i in range(table_size):\n",
    "        for j in range(table_size):\n",
    "            if i < table_size-1 and state[i][j] == 0 and state[i+1][j] == 0:\n",
    "                #print( \"i és j:\" , i, \"  \" ,j)\n",
    "                dict_[\"B\"].append((i, j))"
   ]
  },
  {
   "cell_type": "markdown",
   "metadata": {},
   "source": [
    "A Game osztály hasonlít a probléma osztályra, de minden egyes state-re (állapot) van egy utility (hasznosság) függvénye a probléma osztályban lévő útvonalköltség és célteszt helyett. Hogy egy játékot létrehozzunk, létrehozunk egy alosztályt aminek átadjuk a Game osztályt, és implementáljuk a lehetséges akciókat, a hasznosságot, és a végtesztet.\n",
    "A megjelenítést és a rákövetkező lépéseket lehetséges implementálni, vagy lehet az alapértelmezett metódusokból örököltetni őket. Szükséges még beállítani a .initial azaz a kezdő állást; ezt lehetséges a konstruktorban végrehajtani."
   ]
  },
  {
   "cell_type": "code",
   "execution_count": 102,
   "metadata": {},
   "outputs": [],
   "source": [
    "class StopGate(Game):\n",
    "    def __init__(self, table_size, some_given_state, moves):\n",
    "        self.initial = games.GameState(to_move = \"A\", utility = 0, board = copy.deepcopy(some_given_state), moves = copy.deepcopy(moves))\n",
    "        \n",
    "    def actions(self, state):\n",
    "        if state.to_move == \"A\":\n",
    "            return state.moves[\"A\"]\n",
    "        if state.to_move == \"B\":\n",
    "            return state.moves[\"B\"]\n",
    "    \n",
    "    \n",
    "    def result(self, state, move):\n",
    "        self.display(state)\n",
    "                       \n",
    "        # ha a vízszintesen rakó illető a soros\n",
    "        if state.to_move == \"A\":\n",
    "            \n",
    "            board = copy.deepcopy(state.board)\n",
    "            board[move[0]][move[1]] = \"-\"\n",
    "            board[move[0]][move[1] + 1] = \"-\"\n",
    "            \n",
    "            A_movesLenBefore = len(state.moves[\"A\"])\n",
    "            B_movesLenBefore = len(state.moves[\"B\"])\n",
    "            \n",
    "            \n",
    "            moves = copy.deepcopy(state.moves)\n",
    "            \n",
    "            invalid_steps_remover_returns_new_dict(board, moves)\n",
    "            \n",
    "            \n",
    "            A_movesLenAfter = len(moves[\"A\"])\n",
    "            B_movesLenAfter = len(moves[\"B\"])\n",
    "            \n",
    "            return games.GameState(to_move = \"B\",\n",
    "                                    utility = self.compute_utility(\"A\", A_movesLenBefore, B_movesLenBefore,\n",
    "                                                                   A_movesLenAfter, B_movesLenAfter),\n",
    "                                    board = board, moves = moves)\n",
    "        \n",
    "        # ha a függőlegesen rakó illető a soros\n",
    "        if state.to_move == \"B\":\n",
    "            \n",
    "            board = copy.deepcopy(state.board)\n",
    "            board[move[0]][move[1]] = \"|\"\n",
    "            board[move[0] + 1][move[1]] = \"|\"\n",
    "\n",
    "            A_movesLenBefore = len(state.moves[\"A\"])\n",
    "            B_movesLenBefore = len(state.moves[\"B\"])\n",
    "            \n",
    "            \n",
    "            moves = copy.deepcopy(state.moves)\n",
    "            \n",
    "            invalid_steps_remover_returns_new_dict(board, moves)\n",
    "            \n",
    "            \n",
    "            A_movesLenAfter = len(moves[\"A\"])\n",
    "            B_movesLenAfter = len(moves[\"B\"])\n",
    "            \n",
    "            return games.GameState(to_move = \"A\",\n",
    "                                    utility = self.compute_utility(\"B\", A_movesLenBefore, B_movesLenBefore,\n",
    "                                                                   A_movesLenAfter, B_movesLenAfter),\n",
    "                                    board = board, moves = moves)\n",
    "            \n",
    "            \n",
    "    \n",
    "    # \n",
    "    def compute_utility(self, player, A_before, B_before, A_after, B_after):\n",
    "        \n",
    "        \"\"\"\n",
    "            \n",
    "            A minmax alapelve hogy a max törekszik a lehető legnagyobb értékre\n",
    "            A min törekszik a lehető legkisebb értékre\n",
    "        \n",
    "            ötlet, hogy az legyen a utility function, hogy az ellenfél lehetséges\n",
    "            lépéseiből mennyit veszek el a saját lépésemmel\n",
    "\n",
    "            ha így oldom meg ahogy leírom alább, akkor nem kell a \"return state.utility if player=='A' else -state.utility\"\n",
    "            hanem csak szimplán a \"return state.utility\"\n",
    "            \n",
    "            maximizer:\n",
    "            ha A lép, és amit lépett azzal megnyeri a játékot (azaz B lépéslistája üressé válik), az legyen  10\n",
    "            ha A lép, és amit lépett azzal elveszti a játékot (azaz A lépéslistája üressé válik), az legyen -10\n",
    "            \n",
    "            minimizer:\n",
    "            ha B lép, és amit lépett azzal megnyeri a játékot (azaz A lépéslistája üressé válik), az legyen -10\n",
    "            ha B lép, és amit lépett azzal elveszti a játékot (azaz B lépéslistája üressé válik), az legyen  10\n",
    "            \n",
    "            egyébiránt:\n",
    "            0\n",
    "            \n",
    "        \"\"\"\n",
    "        \n",
    "        #(self, moves, player, A_before, B_before, A_after, B_after)\n",
    "        \n",
    "        if player == \"A\":\n",
    "            if A_after == 0 and B_after != 0:\n",
    "                return -10\n",
    "            \n",
    "            if B_after == 0:\n",
    "                return  10\n",
    "            \n",
    "            else:\n",
    "                return 0 \n",
    "            \n",
    "        \n",
    "        if player == \"B\":\n",
    "            if A_after != 0 and B_after == 0:\n",
    "                return 10\n",
    "            \n",
    "            if A_after == 0:\n",
    "                return  -10\n",
    "            \n",
    "            else:\n",
    "                return 0 \n",
    "            \n",
    "        \n",
    "        \n",
    "    def utility(self, state, player):\n",
    "        return state.utility \n",
    "        \n",
    "    # meg kell adnia, hogy elértük-e a játék végét\n",
    "    # kétféleképp lehet vége, vagy A, vagy B nem tud rakni\n",
    "    def terminal_test(self, state):\n",
    "        \n",
    "        if not bool(state.moves[\"A\"]):\n",
    "            return True\n",
    "        if not bool(state.moves[\"B\"]):\n",
    "            return True\n",
    "        else: return False\n",
    "\n",
    "        \n",
    "    \n",
    "    def display(self, state):\n",
    "        for i in range(table_size):\n",
    "            for j in range(table_size):\n",
    "                print(state.board[i][j], end = \" \")\n",
    "            print()\n",
    "        print()\n",
    "    \n",
    "    "
   ]
  },
  {
   "cell_type": "code",
   "execution_count": 103,
   "metadata": {},
   "outputs": [],
   "source": [
    "table_size = 5\n",
    "given_position = [[\"-\", \"-\", \"-\", \"-\", \"|\"],\n",
    "                  [\"-\", \"-\", 0, 0, \"|\"],\n",
    "                  [\"|\", \"|\", 0, 0, 0],\n",
    "                  [\"|\", \"|\", \"|\", 0, 0],\n",
    "                  [\"-\", \"-\", \"|\", \"-\", \"-\"]]"
   ]
  },
  {
   "cell_type": "markdown",
   "metadata": {},
   "source": [
    "table_size = 4\n",
    "given_position = [[\"-\", \"-\", 0, \"|\"],\n",
    "                  [0, \"-\", \"-\", \"|\"],\n",
    "                  [0, 0, 0, \"|\"],\n",
    "                  [0, 0, 0, \"|\"]]"
   ]
  },
  {
   "cell_type": "code",
   "execution_count": 104,
   "metadata": {},
   "outputs": [],
   "source": [
    "dict_[\"A\"].clear()\n",
    "dict_[\"B\"].clear()"
   ]
  },
  {
   "cell_type": "code",
   "execution_count": 105,
   "metadata": {},
   "outputs": [],
   "source": [
    "initial_run(given_position)"
   ]
  },
  {
   "cell_type": "code",
   "execution_count": 106,
   "metadata": {},
   "outputs": [],
   "source": [
    "def invalid_steps_remover(state):\n",
    "    \"\"\" \n",
    "        megkap egy state-et, azaz egy táblát, és ezen tábla alapján eltávolítja\n",
    "        a globális dict_ ből azon állapotokat, amelyek a state alapján már illegálisak        \n",
    "    \"\"\"\n",
    "    for i in range(table_size):\n",
    "        for j in range(table_size):\n",
    "            if j < table_size-1 and ( state[i][j] != 0 or state[i][j+1] != 0 ) and (i, j) in dict_[\"A\"]:\n",
    "                dict_[\"A\"].remove((i, j))\n",
    "        \n",
    "        \n",
    "    for i in range(table_size):\n",
    "        for j in range(table_size):\n",
    "            if i < table_size-1 and ( state[i][j] != 0 or state[i+1][j] != 0 ) and (i, j) in dict_[\"B\"]:\n",
    "                dict_[\"B\"].remove((i, j))"
   ]
  },
  {
   "cell_type": "code",
   "execution_count": 107,
   "metadata": {},
   "outputs": [
    {
     "data": {
      "text/plain": [
       "{'A': [(1, 2), (2, 2), (2, 3), (3, 3)], 'B': [(1, 2), (1, 3), (2, 3), (2, 4)]}"
      ]
     },
     "execution_count": 107,
     "metadata": {},
     "output_type": "execute_result"
    }
   ],
   "source": [
    "dict_"
   ]
  },
  {
   "cell_type": "code",
   "execution_count": 108,
   "metadata": {},
   "outputs": [],
   "source": [
    "invalid_steps_remover(given_position)"
   ]
  },
  {
   "cell_type": "code",
   "execution_count": 109,
   "metadata": {},
   "outputs": [
    {
     "data": {
      "text/plain": [
       "{'A': [(1, 2), (2, 2), (2, 3), (3, 3)], 'B': [(1, 2), (1, 3), (2, 3), (2, 4)]}"
      ]
     },
     "execution_count": 109,
     "metadata": {},
     "output_type": "execute_result"
    }
   ],
   "source": [
    "dict_"
   ]
  },
  {
   "cell_type": "code",
   "execution_count": 110,
   "metadata": {},
   "outputs": [],
   "source": [
    "sg = StopGate(table_size = table_size, some_given_state = given_position, moves = dict_)"
   ]
  },
  {
   "cell_type": "code",
   "execution_count": 111,
   "metadata": {
    "scrolled": false
   },
   "outputs": [
    {
     "name": "stdout",
     "output_type": "stream",
     "text": [
      "- - - - | \n",
      "- - 0 0 | \n",
      "| | 0 0 0 \n",
      "| | | 0 0 \n",
      "- - | - - \n",
      "\n",
      "- - - - | \n",
      "- - - - | \n",
      "| | 0 0 0 \n",
      "| | | 0 0 \n",
      "- - | - - \n",
      "\n",
      "- - - - | \n",
      "- - - - | \n",
      "| | 0 0 0 \n",
      "| | | 0 0 \n",
      "- - | - - \n",
      "\n",
      "- - - - | \n",
      "- - - - | \n",
      "| | 0 0 | \n",
      "| | | 0 | \n",
      "- - | - - \n",
      "\n",
      "- - - - | \n",
      "- - 0 0 | \n",
      "| | 0 0 0 \n",
      "| | | 0 0 \n",
      "- - | - - \n",
      "\n",
      "- - - - | \n",
      "- - 0 0 | \n",
      "| | - - 0 \n",
      "| | | 0 0 \n",
      "- - | - - \n",
      "\n",
      "- - - - | \n",
      "- - 0 0 | \n",
      "| | 0 0 0 \n",
      "| | | 0 0 \n",
      "- - | - - \n",
      "\n",
      "- - - - | \n",
      "- - 0 0 | \n",
      "| | 0 - - \n",
      "| | | 0 0 \n",
      "- - | - - \n",
      "\n",
      "- - - - | \n",
      "- - 0 0 | \n",
      "| | 0 0 0 \n",
      "| | | 0 0 \n",
      "- - | - - \n",
      "\n",
      "- - - - | \n",
      "- - 0 0 | \n",
      "| | 0 0 0 \n",
      "| | | - - \n",
      "- - | - - \n",
      "\n",
      "- - - - | \n",
      "- - | 0 | \n",
      "| | | 0 0 \n",
      "| | | - - \n",
      "- - | - - \n",
      "\n",
      "- - - - | \n",
      "- - 0 0 | \n",
      "| | 0 0 0 \n",
      "| | | - - \n",
      "- - | - - \n",
      "\n",
      "(2, 2)\n"
     ]
    }
   ],
   "source": [
    "print(games.minmax_decision(sg.initial, sg))"
   ]
  }
 ],
 "metadata": {
  "kernelspec": {
   "display_name": "Python 3",
   "language": "python",
   "name": "python3"
  },
  "language_info": {
   "codemirror_mode": {
    "name": "ipython",
    "version": 3
   },
   "file_extension": ".py",
   "mimetype": "text/x-python",
   "name": "python",
   "nbconvert_exporter": "python",
   "pygments_lexer": "ipython3",
   "version": "3.7.6"
  }
 },
 "nbformat": 4,
 "nbformat_minor": 4
}

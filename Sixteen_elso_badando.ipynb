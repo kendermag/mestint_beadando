{
 "cells": [
  {
   "cell_type": "markdown",
   "metadata": {},
   "source": [
    "Fontos, hogy a search amit használok egy minimálisan módosított.\n",
    "A best_first_graph_search forrásánál az f az alapértelmezetten None lett, és a memoize is megváltozott."
   ]
  },
  {
   "cell_type": "code",
   "execution_count": 7,
   "metadata": {},
   "outputs": [],
   "source": [
    "from search import *\n",
    "import copy"
   ]
  },
  {
   "cell_type": "code",
   "execution_count": 8,
   "metadata": {},
   "outputs": [],
   "source": [
    "# egy elfogadható heurisztika\n",
    "def manhattan_dist_sajat(x, y):\n",
    "    mhd = 0\n",
    "\n",
    "    for i in range(3):\n",
    "        for j in range(3):\n",
    "            mhd = abs(x[i][j] - y[i][j]) + mhd\n",
    "            \n",
    "    return mhd"
   ]
  },
  {
   "cell_type": "code",
   "execution_count": 9,
   "metadata": {},
   "outputs": [],
   "source": [
    "\n",
    "\n",
    "# np.array([1, 2, 9, 8, 7, 6, 5, 3, 4])\n",
    "\n",
    "# ő kibontja a 2D arrayt egy 1D-s tömbbé, nem használom sehol\n",
    "def arrayback_(in_):\n",
    "    array = []\n",
    "    for i in range(3):\n",
    "        for j in range(3):\n",
    "            array.append(in_[i][j])\n",
    "    return np.array(array)\n",
    "\n",
    "class Sixteen(Problem):\n",
    "    def __init__(self):\n",
    "        \n",
    "        \n",
    "        # állapotok amiket megold vagy sem:\n",
    "        \"\"\" nem:                 \n",
    "                        ((3, 2, 4),\n",
    "                         (6, 8, 7),\n",
    "                         (1, 5, 9))\n",
    "                         \n",
    "                         ((8, 2, 7),\n",
    "                         (3, 1, 5),\n",
    "                         (9, 4, 6))\n",
    "                         \n",
    "                         ((3, 2, 1),\n",
    "                         (9, 7, 8),\n",
    "                         (5, 4, 6))\n",
    "                         \n",
    "                        \n",
    "                         \n",
    "            innen minden kezdőállapotot igen: \n",
    "                    (https://www.chiark.greenend.org.uk/~sgtatham/puzzles/js/sixteen.html -alapján 3x3-as, new game)\n",
    "\n",
    "            \n",
    "        \n",
    "        \"\"\"\n",
    "        \n",
    "        \"\"\"\n",
    "            a tábla kezdőállapota:\n",
    "            a számokat lecserélve, majd ezen és az ez alatt lévő cellák\n",
    "            futtatásával tudunk egy újabb tesztesetet átadni\n",
    "        \"\"\"\n",
    "        self.initial =  ((6, 3, 9),\n",
    "                         (8, 2, 4),\n",
    "                         (7, 1, 5))\n",
    "        \n",
    "        # a célállapota a táblának:\n",
    "        self.goal =     ((1, 2, 3),\n",
    "                         (4, 5, 6),\n",
    "                         (7, 8, 9))\n",
    "        \n",
    "    # a lehetséges lépések (mozgatások) amik történhetnek a táblán\n",
    "    def actions(self, state):\n",
    "        return [\"right1\", \"right2\", \"right3\", \"up1\", \"up2\", \"up3\", \"left1\", \"left2\", \"left3\", \"down1\", \"down2\", \"down3\"]\n",
    "    \n",
    "    # a visszaadandó state az action után amit az aimacode feldolgoz ahogyan jónak érzi\n",
    "    def result(self, state, action):\n",
    "        \n",
    "        # lehet hogy működne enélkül is, de így 100% hogy működik\n",
    "        board_state = [list(i) for i in copy.deepcopy(state)]\n",
    "        T = [list(i) for i in copy.deepcopy(board_state)]\n",
    "        \n",
    "        # a lehetséges actionok felsorolása\n",
    "        \n",
    "        # első sor jobbra\n",
    "        if action == \"right1\":\n",
    "            T[0][0] = board_state[0][2]\n",
    "            T[0][1] = board_state[0][0]\n",
    "            T[0][2] = board_state[0][1]\n",
    "            back_ = tuple(tuple(i) for i in T)\n",
    "            return back_\n",
    "\n",
    "        # második sor jobbra\n",
    "        if action == \"right2\":\n",
    "            T[1][0] = board_state[1][2]\n",
    "            T[1][1] = board_state[1][0]\n",
    "            T[1][2] = board_state[1][1]\n",
    "            back_ = tuple(tuple(i) for i in T)\n",
    "            return back_\n",
    "\n",
    "        # harmadik sor jobbra\n",
    "        if action == \"right3\":\n",
    "            T[2][0] = board_state[2][2]\n",
    "            T[2][1] = board_state[2][0]\n",
    "            T[2][2] = board_state[2][1]\n",
    "            back_ = tuple(tuple(i) for i in T)\n",
    "            return back_\n",
    "\n",
    "        # első oszlop fel\n",
    "        if action == \"up1\":\n",
    "            T[0][0] = board_state[1][0]\n",
    "            T[1][0] = board_state[2][0]\n",
    "            T[2][0] = board_state[0][0]\n",
    "            back_ = tuple(tuple(i) for i in T)\n",
    "            return back_\n",
    "\n",
    "        # második oszlop fel\n",
    "        if action == \"up2\":\n",
    "            T[0][1] = board_state[1][1]\n",
    "            T[1][1] = board_state[2][1]\n",
    "            T[2][1] = board_state[0][1]\n",
    "            back_ = tuple(tuple(i) for i in T)\n",
    "            return back_\n",
    "\n",
    "        # harmadik oszlop fel\n",
    "        if action == \"up3\":\n",
    "            T[0][2] = board_state[1][2]\n",
    "            T[1][2] = board_state[2][2]\n",
    "            T[2][2] = board_state[0][2]\n",
    "            back_ = tuple(tuple(i) for i in T)\n",
    "            return back_\n",
    "\n",
    "        # első sor balra\n",
    "        if action == \"left1\":\n",
    "            T[0][0] = board_state[0][1]\n",
    "            T[0][1] = board_state[0][2]\n",
    "            T[0][2] = board_state[0][0]\n",
    "            back_ = tuple(tuple(i) for i in T)\n",
    "            return back_\n",
    "\n",
    "        # második sor balra\n",
    "        if action == \"left2\":\n",
    "            T[1][0] = board_state[1][1]\n",
    "            T[1][1] = board_state[1][2]\n",
    "            T[1][2] = board_state[1][0]\n",
    "            back_ = tuple(tuple(i) for i in T)\n",
    "            return back_\n",
    "\n",
    "        # harmadik sor balra\n",
    "        if action == \"left3\":\n",
    "            T[2][0] = board_state[2][1]\n",
    "            T[2][1] = board_state[2][2]\n",
    "            T[2][2] = board_state[2][0]\n",
    "            back_ = tuple(tuple(i) for i in T)\n",
    "            return back_\n",
    "\n",
    "        # első oszlop le\n",
    "        if action == \"down1\":\n",
    "            T[0][0] = board_state[2][0]\n",
    "            T[1][0] = board_state[0][0]\n",
    "            T[2][0] = board_state[1][0]\n",
    "            back_ = tuple(tuple(i) for i in T)\n",
    "            return back_\n",
    "\n",
    "        # második oszlop le \n",
    "        if action == \"down2\":\n",
    "            T[0][1] = board_state[2][1]\n",
    "            T[1][1] = board_state[0][1]\n",
    "            T[2][1] = board_state[1][1]\n",
    "            back_ = tuple(tuple(i) for i in T)\n",
    "            return back_\n",
    "            \n",
    "        # harmadik oszlop le\n",
    "        if action == \"down3\":\n",
    "            T[0][2] = board_state[2][2]\n",
    "            T[1][2] = board_state[0][2]\n",
    "            T[2][2] = board_state[1][2]\n",
    "            back_ = tuple(tuple(i) for i in T)\n",
    "            return back_\n",
    "\n",
    "        \n",
    "\n",
    "    \n",
    "    def f(self, node):\n",
    "        \n",
    "        x = node.state\n",
    "        y = self.goal\n",
    "        return manhattan_dist_sajat(x, y)\n",
    "\n",
    "    \n",
    "    def h(self, node):\n",
    "                \n",
    "        x = node.state\n",
    "        y = self.goal\n",
    "        return manhattan_dist_sajat(x, y)\n",
    "        \n"
   ]
  },
  {
   "cell_type": "code",
   "execution_count": 10,
   "metadata": {},
   "outputs": [],
   "source": [
    "# példámyosítom a Sixteen alosztályt \n",
    "henlo_0 = Sixteen()"
   ]
  },
  {
   "cell_type": "code",
   "execution_count": 11,
   "metadata": {},
   "outputs": [
    {
     "name": "stdout",
     "output_type": "stream",
     "text": [
      "446 paths have been expanded and 3243 paths remain in the frontier\n",
      "Wall time: 3.65 s\n"
     ]
    },
    {
     "data": {
      "text/plain": [
       "<Node ((1, 2, 3), (4, 5, 6), (7, 8, 9))>"
      ]
     },
     "execution_count": 11,
     "metadata": {},
     "output_type": "execute_result"
    }
   ],
   "source": [
    "## átlagban gyorsabb, ő sem tudja megoldani a megoldhatatlan kezdőállapotokat\n",
    "%time best_first_graph_search(henlo_0, display = True)"
   ]
  },
  {
   "cell_type": "code",
   "execution_count": 12,
   "metadata": {},
   "outputs": [
    {
     "name": "stdout",
     "output_type": "stream",
     "text": [
      "825 paths have been expanded and 5923 paths remain in the frontier\n",
      "Wall time: 13.6 s\n"
     ]
    },
    {
     "data": {
      "text/plain": [
       "<Node ((1, 2, 3), (4, 5, 6), (7, 8, 9))>"
      ]
     },
     "execution_count": 12,
     "metadata": {},
     "output_type": "execute_result"
    }
   ],
   "source": [
    "## néha gyorsabb megoldást ad, néha nem\n",
    "%time astar_search(henlo_0, display = True)"
   ]
  }
 ],
 "metadata": {
  "kernelspec": {
   "display_name": "Python 3",
   "language": "python",
   "name": "python3"
  },
  "language_info": {
   "codemirror_mode": {
    "name": "ipython",
    "version": 3
   },
   "file_extension": ".py",
   "mimetype": "text/x-python",
   "name": "python",
   "nbconvert_exporter": "python",
   "pygments_lexer": "ipython3",
   "version": "3.7.6"
  }
 },
 "nbformat": 4,
 "nbformat_minor": 4
}
